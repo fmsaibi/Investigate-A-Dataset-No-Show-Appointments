{
 "cells": [
  {
   "cell_type": "markdown",
   "metadata": {
    "slideshow": {
     "slide_type": "slide"
    }
   },
   "source": [
    "<!-- # Project: Investigate a Dataset - No-Show appointments -->\n",
    "<link href=\"https://cdn.jsdelivr.net/npm/bootstrap@5.3.3/dist/css/bootstrap.min.css\" rel=\"stylesheet\" integrity=\"sha384-QWTKZyjpPEjISv5WaRU9OFeRpok6YctnYmDr5pNlyT2bRjXh0JMhjY6hW+ALEwIH\" crossorigin=\"anonymous\">\n",
    "\n",
    "<h1 class=\"text-bg text-center p-1\">Project: Investigate a Dataset - No-Show appointments</h1>\n",
    "\n",
    "<!-- ## Table of Contents -->\n",
    "<h2 class=\"text-bg-primary p-2\">Table of Contents</h2>\n",
    "<ul>\n",
    "<li><a href=\"#intro\">Introduction</a></li>\n",
    "<li><a href=\"#wrangling\">Data Wrangling</a></li>\n",
    "<li><a href=\"#eda\">Exploratory Data Analysis</a></li>\n",
    "<li><a href=\"#conclusions\">Conclusions</a></li>\n",
    "</ul>"
   ]
  },
  {
   "cell_type": "markdown",
   "metadata": {},
   "source": [
    "<a id='#intro'></a>\n",
    "<h2 class=\"text-bg-primary p-2\">Introduction</h2>\n",
    "\n",
    "\n",
    "### A. Context:\n",
    "\n",
    "This report aims to investigate why patients in Brazil not showing up for their appointment. In the conventional procedure, patients in Brazil request doctor appointments, which are promptly scheduled, and confirmation text messages containing appointment details is dispatch. The report also aims to inivestigate which neighbourhood has the highest attendance \n",
    "\n",
    "</br>\n",
    "\n",
    "### B. Dataset Description:\n",
    "\n",
    "The dataset contains about 110k medical appointments. and each row contains a number of characteristics about the patient as described in the below table.\n",
    "</br>\n",
    "<div class=\"row\">\n",
    "    <div class=\"col-lg-12\">\n",
    "        <table class=\"table\">\n",
    "            <thead>\n",
    "                <tr>\n",
    "                    <th scope=\"col\">Header</th>\n",
    "                    <th scope=\"col\">Discription</th>\n",
    "                </tr>\n",
    "            </thead>\n",
    "            <tbody>\n",
    "                <tr>\n",
    "                    <td scope=\"row\" width=200px>1. PatientId</td>\n",
    "                    <td colspan=\"3\">Unique identifier for each patient</td>\n",
    "                </tr>\n",
    "                <tr>\n",
    "                    <td scope=\"row\">2. AppointmentID</td>\n",
    "                    <td colspan=\"3\">Unique identifier for each appointment.</td>\n",
    "                </tr>\n",
    "                <tr>\n",
    "                    <td scope=\"row\">3. Gender</td>\n",
    "                    <td colspan=\"3\">Patient's gender (male or female).</td>\n",
    "                </tr>\n",
    "                <tr>\n",
    "                    <td scope=\"row\">4. ScheduledDay</td>\n",
    "                    <td colspan=\"3\">Date and time when the appointment was scheduled.</td>\n",
    "                </tr>\n",
    "                <tr>\n",
    "                    <td scope=\"row\">5. AppointmentDay</td>\n",
    "                    <td colspan=\"2\">Date of the actual appointment.</td>\n",
    "                </tr>\n",
    "                <tr>\n",
    "                    <td scope=\"row\">6. Age</td>\n",
    "                    <td colspan=\"2\">Patient's age</td>\n",
    "                </tr>\n",
    "                <tr>\n",
    "                    <td scope=\"row\">7. Neighbourhood</td>\n",
    "                    <td colspan=\"2\">Location or neighborhood where the medical facility is located.</td>\n",
    "                </tr>\n",
    "                <tr>\n",
    "                    <td scope=\"row\">8. Scholarship</td>\n",
    "                    <td colspan=\"2\">Indicates if the patient is enrolled in a scholarship program.</td>\n",
    "                </tr>\n",
    "                <tr>\n",
    "                    <td scope=\"row\">9. Hipertension</td>\n",
    "                    <td colspan=\"2\">Indicates if the patient has hypertension (high blood pressure).</td>\n",
    "                </tr>\n",
    "                <tr>\n",
    "                    <td scope=\"row\">10. Diabetes</td>\n",
    "                    <td colspan=\"2\">Indicates if the patient has diabetes.</td>\n",
    "                </tr>\n",
    "                <tr>\n",
    "                    <td scope=\"row\">11. Alcoholism</td>\n",
    "                    <td colspan=\"2\">Indicates if the patient is known to have issues with alcohol consumption.</td>\n",
    "                </tr>\n",
    "                <tr>\n",
    "                    <td scope=\"row\">12. Handcap</td>\n",
    "                    <td colspan=\"2\">Indicates the level of handicap (if any) the patient may have.</td>\n",
    "                </tr>\n",
    "                <tr>\n",
    "                    <td scope=\"row\">13. SMS_received</td>\n",
    "                    <td colspan=\"2\">Indicates whether the patient received an SMS reminder for the appointment.</td>\n",
    "                </tr>\n",
    "                <tr>\n",
    "                    <td scope=\"row\">14. No-show</td>\n",
    "                    <td colspan=\"2\">Indicates whether the patient showed up for the appointment</td>\n",
    "                </tr>\n",
    "            </tbody>\n",
    "        </table>\n",
    "    </div>\n",
    "</div>\n",
    "\n",
    "### Question(s) for Analysis\n",
    "\n",
    "I preapre 2 question below that need to be answr. This Question will help us in predicting for future appoitement\n",
    "\n",
    "1. What factors contribute to patients not attending their scheduled appointments at the hospital?\n",
    "2. Which neighbour has the highest attendance for a patient with hypertension?\n",
    "\n"
   ]
  },
  {
   "cell_type": "markdown",
   "metadata": {},
   "source": [
    "Below import some of the libraries that will be used in this investigation"
   ]
  },
  {
   "cell_type": "code",
   "execution_count": 1,
   "metadata": {
    "collapsed": true
   },
   "outputs": [],
   "source": [
    "import pandas as pd\n",
    "import matplotlib.pyplot as plt\n",
    "# A collection of constant variable for use in the program parameter.\n",
    "from constants import color\n",
    "# % matplotlib inline"
   ]
  },
  {
   "cell_type": "markdown",
   "metadata": {},
   "source": [
    "<a id='wrangling'></a>\n",
    "<h2 class=\"text-bg-primary p-2\">Data Wrangling</h2>"
   ]
  },
  {
   "cell_type": "markdown",
   "metadata": {},
   "source": [
    "In this section, I'll leverage the Panda Library to read a CSV file. The returned object will contain DataFrame data. Then, store data in a variable named 'df', enabling us to conduct data analysis processes seamlessly."
   ]
  },
  {
   "cell_type": "code",
   "execution_count": 2,
   "metadata": {
    "collapsed": true
   },
   "outputs": [],
   "source": [
    "# Reading CSV File\n",
    "df = pd.read_csv('Data/noshowappointments-kagglev2-may-2016.csv')"
   ]
  },
  {
   "cell_type": "markdown",
   "metadata": {},
   "source": [
    "will use the Head() method this will allow us to see 5 first rows of the data to have an idea of how to data looks like, and what type of valus expected to retrun"
   ]
  },
  {
   "cell_type": "code",
   "execution_count": 3,
   "metadata": {},
   "outputs": [
    {
     "data": {
      "text/html": [
       "<div>\n",
       "<style scoped>\n",
       "    .dataframe tbody tr th:only-of-type {\n",
       "        vertical-align: middle;\n",
       "    }\n",
       "\n",
       "    .dataframe tbody tr th {\n",
       "        vertical-align: top;\n",
       "    }\n",
       "\n",
       "    .dataframe thead th {\n",
       "        text-align: right;\n",
       "    }\n",
       "</style>\n",
       "<table border=\"1\" class=\"dataframe\">\n",
       "  <thead>\n",
       "    <tr style=\"text-align: right;\">\n",
       "      <th></th>\n",
       "      <th>PatientId</th>\n",
       "      <th>AppointmentID</th>\n",
       "      <th>Gender</th>\n",
       "      <th>ScheduledDay</th>\n",
       "      <th>AppointmentDay</th>\n",
       "      <th>Age</th>\n",
       "      <th>Neighbourhood</th>\n",
       "      <th>Scholarship</th>\n",
       "      <th>Hipertension</th>\n",
       "      <th>Diabetes</th>\n",
       "      <th>Alcoholism</th>\n",
       "      <th>Handcap</th>\n",
       "      <th>SMS_received</th>\n",
       "      <th>No-show</th>\n",
       "    </tr>\n",
       "  </thead>\n",
       "  <tbody>\n",
       "    <tr>\n",
       "      <th>0</th>\n",
       "      <td>29872499824296</td>\n",
       "      <td>5642903</td>\n",
       "      <td>F</td>\n",
       "      <td>2016-04-29T18:38:08Z</td>\n",
       "      <td>2016-04-29T00:00:00Z</td>\n",
       "      <td>62</td>\n",
       "      <td>JARDIM DA PENHA</td>\n",
       "      <td>0</td>\n",
       "      <td>1</td>\n",
       "      <td>0</td>\n",
       "      <td>0</td>\n",
       "      <td>0</td>\n",
       "      <td>0</td>\n",
       "      <td>No</td>\n",
       "    </tr>\n",
       "    <tr>\n",
       "      <th>1</th>\n",
       "      <td>558997776694438</td>\n",
       "      <td>5642503</td>\n",
       "      <td>M</td>\n",
       "      <td>2016-04-29T16:08:27Z</td>\n",
       "      <td>2016-04-29T00:00:00Z</td>\n",
       "      <td>56</td>\n",
       "      <td>JARDIM DA PENHA</td>\n",
       "      <td>0</td>\n",
       "      <td>0</td>\n",
       "      <td>0</td>\n",
       "      <td>0</td>\n",
       "      <td>0</td>\n",
       "      <td>0</td>\n",
       "      <td>No</td>\n",
       "    </tr>\n",
       "    <tr>\n",
       "      <th>2</th>\n",
       "      <td>4262962299951</td>\n",
       "      <td>5642549</td>\n",
       "      <td>F</td>\n",
       "      <td>2016-04-29T16:19:04Z</td>\n",
       "      <td>2016-04-29T00:00:00Z</td>\n",
       "      <td>62</td>\n",
       "      <td>MATA DA PRAIA</td>\n",
       "      <td>0</td>\n",
       "      <td>0</td>\n",
       "      <td>0</td>\n",
       "      <td>0</td>\n",
       "      <td>0</td>\n",
       "      <td>0</td>\n",
       "      <td>No</td>\n",
       "    </tr>\n",
       "    <tr>\n",
       "      <th>3</th>\n",
       "      <td>867951213174</td>\n",
       "      <td>5642828</td>\n",
       "      <td>F</td>\n",
       "      <td>2016-04-29T17:29:31Z</td>\n",
       "      <td>2016-04-29T00:00:00Z</td>\n",
       "      <td>8</td>\n",
       "      <td>PONTAL DE CAMBURI</td>\n",
       "      <td>0</td>\n",
       "      <td>0</td>\n",
       "      <td>0</td>\n",
       "      <td>0</td>\n",
       "      <td>0</td>\n",
       "      <td>0</td>\n",
       "      <td>No</td>\n",
       "    </tr>\n",
       "    <tr>\n",
       "      <th>4</th>\n",
       "      <td>8841186448183</td>\n",
       "      <td>5642494</td>\n",
       "      <td>F</td>\n",
       "      <td>2016-04-29T16:07:23Z</td>\n",
       "      <td>2016-04-29T00:00:00Z</td>\n",
       "      <td>56</td>\n",
       "      <td>JARDIM DA PENHA</td>\n",
       "      <td>0</td>\n",
       "      <td>1</td>\n",
       "      <td>1</td>\n",
       "      <td>0</td>\n",
       "      <td>0</td>\n",
       "      <td>0</td>\n",
       "      <td>No</td>\n",
       "    </tr>\n",
       "  </tbody>\n",
       "</table>\n",
       "</div>"
      ],
      "text/plain": [
       "        PatientId  AppointmentID Gender          ScheduledDay  \\\n",
       "0  29872499824296        5642903      F  2016-04-29T18:38:08Z   \n",
       "1 558997776694438        5642503      M  2016-04-29T16:08:27Z   \n",
       "2   4262962299951        5642549      F  2016-04-29T16:19:04Z   \n",
       "3    867951213174        5642828      F  2016-04-29T17:29:31Z   \n",
       "4   8841186448183        5642494      F  2016-04-29T16:07:23Z   \n",
       "\n",
       "         AppointmentDay  Age      Neighbourhood  Scholarship  Hipertension  \\\n",
       "0  2016-04-29T00:00:00Z   62    JARDIM DA PENHA            0             1   \n",
       "1  2016-04-29T00:00:00Z   56    JARDIM DA PENHA            0             0   \n",
       "2  2016-04-29T00:00:00Z   62      MATA DA PRAIA            0             0   \n",
       "3  2016-04-29T00:00:00Z    8  PONTAL DE CAMBURI            0             0   \n",
       "4  2016-04-29T00:00:00Z   56    JARDIM DA PENHA            0             1   \n",
       "\n",
       "   Diabetes  Alcoholism  Handcap  SMS_received No-show  \n",
       "0         0           0        0             0      No  \n",
       "1         0           0        0             0      No  \n",
       "2         0           0        0             0      No  \n",
       "3         0           0        0             0      No  \n",
       "4         1           0        0             0      No  "
      ]
     },
     "execution_count": 3,
     "metadata": {},
     "output_type": "execute_result"
    }
   ],
   "source": [
    "pd.set_option('display.float_format', lambda x: '%.0f' % x)\n",
    "\n",
    "# Retrun the first 5 row of the DataFrame data\n",
    "df.head()"
   ]
  },
  {
   "cell_type": "markdown",
   "metadata": {},
   "source": [
    "To have an idea of how many rows and columns will untlise .shape"
   ]
  },
  {
   "cell_type": "code",
   "execution_count": 4,
   "metadata": {},
   "outputs": [
    {
     "data": {
      "text/plain": [
       "(110527, 14)"
      ]
     },
     "execution_count": 4,
     "metadata": {},
     "output_type": "execute_result"
    }
   ],
   "source": [
    "df.shape"
   ]
  },
  {
   "cell_type": "markdown",
   "metadata": {},
   "source": [
    "This section will have an overview of any missing values or wrong data types, As noticed when performing .info() it shows no missing data. But noticed the data types of **'ScheduledDay' & 'AppointmentDay'** are not in the right format since they appear as **object data types**. To fix it will need to change it to \"datetime\" in the upcoming stage"
   ]
  },
  {
   "cell_type": "code",
   "execution_count": 5,
   "metadata": {},
   "outputs": [
    {
     "name": "stdout",
     "output_type": "stream",
     "text": [
      "<class 'pandas.core.frame.DataFrame'>\n",
      "RangeIndex: 110527 entries, 0 to 110526\n",
      "Data columns (total 14 columns):\n",
      " #   Column          Non-Null Count   Dtype  \n",
      "---  ------          --------------   -----  \n",
      " 0   PatientId       110527 non-null  float64\n",
      " 1   AppointmentID   110527 non-null  int64  \n",
      " 2   Gender          110527 non-null  object \n",
      " 3   ScheduledDay    110527 non-null  object \n",
      " 4   AppointmentDay  110527 non-null  object \n",
      " 5   Age             110527 non-null  int64  \n",
      " 6   Neighbourhood   110527 non-null  object \n",
      " 7   Scholarship     110527 non-null  int64  \n",
      " 8   Hipertension    110527 non-null  int64  \n",
      " 9   Diabetes        110527 non-null  int64  \n",
      " 10  Alcoholism      110527 non-null  int64  \n",
      " 11  Handcap         110527 non-null  int64  \n",
      " 12  SMS_received    110527 non-null  int64  \n",
      " 13  No-show         110527 non-null  object \n",
      "dtypes: float64(1), int64(8), object(5)\n",
      "memory usage: 11.8+ MB\n"
     ]
    }
   ],
   "source": [
    "df.info()"
   ]
  },
  {
   "cell_type": "markdown",
   "metadata": {},
   "source": []
  },
  {
   "cell_type": "markdown",
   "metadata": {},
   "source": [
    "Here will invistigate overall data uisng .describe() that will provides with summary statistics for every numaric coulmn in the data table.\n",
    "The table shows some unrealistic valu for exmple min age = -1 and handcap has the maximum of 4 when i was expecting 1 & 0 as True and Flase.\n",
    "The table also show that 75% of patienet recved sms message for thier Appointment "
   ]
  },
  {
   "cell_type": "code",
   "execution_count": 6,
   "metadata": {},
   "outputs": [
    {
     "data": {
      "text/html": [
       "<div>\n",
       "<style scoped>\n",
       "    .dataframe tbody tr th:only-of-type {\n",
       "        vertical-align: middle;\n",
       "    }\n",
       "\n",
       "    .dataframe tbody tr th {\n",
       "        vertical-align: top;\n",
       "    }\n",
       "\n",
       "    .dataframe thead th {\n",
       "        text-align: right;\n",
       "    }\n",
       "</style>\n",
       "<table border=\"1\" class=\"dataframe\">\n",
       "  <thead>\n",
       "    <tr style=\"text-align: right;\">\n",
       "      <th></th>\n",
       "      <th>PatientId</th>\n",
       "      <th>AppointmentID</th>\n",
       "      <th>Age</th>\n",
       "      <th>Scholarship</th>\n",
       "      <th>Hipertension</th>\n",
       "      <th>Diabetes</th>\n",
       "      <th>Alcoholism</th>\n",
       "      <th>Handcap</th>\n",
       "      <th>SMS_received</th>\n",
       "    </tr>\n",
       "  </thead>\n",
       "  <tbody>\n",
       "    <tr>\n",
       "      <th>count</th>\n",
       "      <td>110527</td>\n",
       "      <td>110527</td>\n",
       "      <td>110527</td>\n",
       "      <td>110527</td>\n",
       "      <td>110527</td>\n",
       "      <td>110527</td>\n",
       "      <td>110527</td>\n",
       "      <td>110527</td>\n",
       "      <td>110527</td>\n",
       "    </tr>\n",
       "    <tr>\n",
       "      <th>mean</th>\n",
       "      <td>147496265710394</td>\n",
       "      <td>5675305</td>\n",
       "      <td>37</td>\n",
       "      <td>0</td>\n",
       "      <td>0</td>\n",
       "      <td>0</td>\n",
       "      <td>0</td>\n",
       "      <td>0</td>\n",
       "      <td>0</td>\n",
       "    </tr>\n",
       "    <tr>\n",
       "      <th>std</th>\n",
       "      <td>256094920291739</td>\n",
       "      <td>71296</td>\n",
       "      <td>23</td>\n",
       "      <td>0</td>\n",
       "      <td>0</td>\n",
       "      <td>0</td>\n",
       "      <td>0</td>\n",
       "      <td>0</td>\n",
       "      <td>0</td>\n",
       "    </tr>\n",
       "    <tr>\n",
       "      <th>min</th>\n",
       "      <td>39218</td>\n",
       "      <td>5030230</td>\n",
       "      <td>-1</td>\n",
       "      <td>0</td>\n",
       "      <td>0</td>\n",
       "      <td>0</td>\n",
       "      <td>0</td>\n",
       "      <td>0</td>\n",
       "      <td>0</td>\n",
       "    </tr>\n",
       "    <tr>\n",
       "      <th>25%</th>\n",
       "      <td>4172614444192</td>\n",
       "      <td>5640286</td>\n",
       "      <td>18</td>\n",
       "      <td>0</td>\n",
       "      <td>0</td>\n",
       "      <td>0</td>\n",
       "      <td>0</td>\n",
       "      <td>0</td>\n",
       "      <td>0</td>\n",
       "    </tr>\n",
       "    <tr>\n",
       "      <th>50%</th>\n",
       "      <td>31731838713978</td>\n",
       "      <td>5680573</td>\n",
       "      <td>37</td>\n",
       "      <td>0</td>\n",
       "      <td>0</td>\n",
       "      <td>0</td>\n",
       "      <td>0</td>\n",
       "      <td>0</td>\n",
       "      <td>0</td>\n",
       "    </tr>\n",
       "    <tr>\n",
       "      <th>75%</th>\n",
       "      <td>94391720898175</td>\n",
       "      <td>5725524</td>\n",
       "      <td>55</td>\n",
       "      <td>0</td>\n",
       "      <td>0</td>\n",
       "      <td>0</td>\n",
       "      <td>0</td>\n",
       "      <td>0</td>\n",
       "      <td>1</td>\n",
       "    </tr>\n",
       "    <tr>\n",
       "      <th>max</th>\n",
       "      <td>999981631772427</td>\n",
       "      <td>5790484</td>\n",
       "      <td>115</td>\n",
       "      <td>1</td>\n",
       "      <td>1</td>\n",
       "      <td>1</td>\n",
       "      <td>1</td>\n",
       "      <td>4</td>\n",
       "      <td>1</td>\n",
       "    </tr>\n",
       "  </tbody>\n",
       "</table>\n",
       "</div>"
      ],
      "text/plain": [
       "            PatientId  AppointmentID    Age  Scholarship  Hipertension  \\\n",
       "count          110527         110527 110527       110527        110527   \n",
       "mean  147496265710394        5675305     37            0             0   \n",
       "std   256094920291739          71296     23            0             0   \n",
       "min             39218        5030230     -1            0             0   \n",
       "25%     4172614444192        5640286     18            0             0   \n",
       "50%    31731838713978        5680573     37            0             0   \n",
       "75%    94391720898175        5725524     55            0             0   \n",
       "max   999981631772427        5790484    115            1             1   \n",
       "\n",
       "       Diabetes  Alcoholism  Handcap  SMS_received  \n",
       "count    110527      110527   110527        110527  \n",
       "mean          0           0        0             0  \n",
       "std           0           0        0             0  \n",
       "min           0           0        0             0  \n",
       "25%           0           0        0             0  \n",
       "50%           0           0        0             0  \n",
       "75%           0           0        0             1  \n",
       "max           1           1        4             1  "
      ]
     },
     "execution_count": 6,
     "metadata": {},
     "output_type": "execute_result"
    }
   ],
   "source": [
    "df.describe()"
   ]
  },
  {
   "cell_type": "markdown",
   "metadata": {},
   "source": [
    "Investigating how many patient with age value of -1, however the results shows only one patient. In the later stage will will ingistiagte weather to drop or fill with postive value"
   ]
  },
  {
   "cell_type": "code",
   "execution_count": 7,
   "metadata": {},
   "outputs": [
    {
     "data": {
      "text/html": [
       "<div>\n",
       "<style scoped>\n",
       "    .dataframe tbody tr th:only-of-type {\n",
       "        vertical-align: middle;\n",
       "    }\n",
       "\n",
       "    .dataframe tbody tr th {\n",
       "        vertical-align: top;\n",
       "    }\n",
       "\n",
       "    .dataframe thead th {\n",
       "        text-align: right;\n",
       "    }\n",
       "</style>\n",
       "<table border=\"1\" class=\"dataframe\">\n",
       "  <thead>\n",
       "    <tr style=\"text-align: right;\">\n",
       "      <th></th>\n",
       "      <th>PatientId</th>\n",
       "      <th>AppointmentID</th>\n",
       "      <th>Gender</th>\n",
       "      <th>ScheduledDay</th>\n",
       "      <th>AppointmentDay</th>\n",
       "      <th>Age</th>\n",
       "      <th>Neighbourhood</th>\n",
       "      <th>Scholarship</th>\n",
       "      <th>Hipertension</th>\n",
       "      <th>Diabetes</th>\n",
       "      <th>Alcoholism</th>\n",
       "      <th>Handcap</th>\n",
       "      <th>SMS_received</th>\n",
       "      <th>No-show</th>\n",
       "    </tr>\n",
       "  </thead>\n",
       "  <tbody>\n",
       "    <tr>\n",
       "      <th>99832</th>\n",
       "      <td>465943158731293</td>\n",
       "      <td>5775010</td>\n",
       "      <td>F</td>\n",
       "      <td>2016-06-06T08:58:13Z</td>\n",
       "      <td>2016-06-06T00:00:00Z</td>\n",
       "      <td>-1</td>\n",
       "      <td>ROMÃO</td>\n",
       "      <td>0</td>\n",
       "      <td>0</td>\n",
       "      <td>0</td>\n",
       "      <td>0</td>\n",
       "      <td>0</td>\n",
       "      <td>0</td>\n",
       "      <td>No</td>\n",
       "    </tr>\n",
       "  </tbody>\n",
       "</table>\n",
       "</div>"
      ],
      "text/plain": [
       "            PatientId  AppointmentID Gender          ScheduledDay  \\\n",
       "99832 465943158731293        5775010      F  2016-06-06T08:58:13Z   \n",
       "\n",
       "             AppointmentDay  Age Neighbourhood  Scholarship  Hipertension  \\\n",
       "99832  2016-06-06T00:00:00Z   -1         ROMÃO            0             0   \n",
       "\n",
       "       Diabetes  Alcoholism  Handcap  SMS_received No-show  \n",
       "99832         0           0        0             0      No  "
      ]
     },
     "execution_count": 7,
     "metadata": {},
     "output_type": "execute_result"
    }
   ],
   "source": [
    "df[df['Age'] == -1].head()"
   ]
  },
  {
   "cell_type": "markdown",
   "metadata": {},
   "source": [
    "Investigiating if we have other valus assicated with \"handcap\". it truns out we got series of numbers.\n",
    "Which i assume each number represents level of handcap"
   ]
  },
  {
   "cell_type": "code",
   "execution_count": 8,
   "metadata": {},
   "outputs": [
    {
     "data": {
      "text/plain": [
       "array([0, 1, 2, 3, 4])"
      ]
     },
     "execution_count": 8,
     "metadata": {},
     "output_type": "execute_result"
    }
   ],
   "source": [
    "df['Handcap'].unique()"
   ]
  },
  {
   "cell_type": "markdown",
   "metadata": {},
   "source": [
    "Here will check if we dont have dublicate or repetitive rows which could effect when performing EDA"
   ]
  },
  {
   "cell_type": "code",
   "execution_count": 9,
   "metadata": {},
   "outputs": [
    {
     "data": {
      "text/plain": [
       "False    110527\n",
       "Name: count, dtype: int64"
      ]
     },
     "execution_count": 9,
     "metadata": {},
     "output_type": "execute_result"
    }
   ],
   "source": [
    "# Checking for dubpliate in for each row\n",
    "df.duplicated().value_counts()"
   ]
  },
  {
   "cell_type": "markdown",
   "metadata": {},
   "source": [
    "\n",
    "### Data Cleaning"
   ]
  },
  {
   "cell_type": "markdown",
   "metadata": {},
   "source": [
    "Before we process with data cleaning, will change the column header to a lower string, for easy referencing"
   ]
  },
  {
   "cell_type": "code",
   "execution_count": 10,
   "metadata": {},
   "outputs": [],
   "source": [
    "# Create Dict and change it to lower case\n",
    "lower_label = {each_label:each_label.lower() for each_label in df.columns}\n",
    "# Renamae the column besed on the created new dict above (lower_label)\n",
    "df.rename(columns=lower_label, inplace=True)"
   ]
  },
  {
   "cell_type": "markdown",
   "metadata": {},
   "source": [
    "Column \"No-Show\" is creating confusion for the reader in this case will change it to absent to make it more realistic"
   ]
  },
  {
   "cell_type": "code",
   "execution_count": 11,
   "metadata": {},
   "outputs": [],
   "source": [
    "df.rename(columns={'no-show': 'absent'}, inplace =True)"
   ]
  },
  {
   "cell_type": "markdown",
   "metadata": {},
   "source": [
    "Check if column rename took place "
   ]
  },
  {
   "cell_type": "code",
   "execution_count": 12,
   "metadata": {},
   "outputs": [
    {
     "data": {
      "text/plain": [
       "Index(['patientid', 'appointmentid', 'gender', 'scheduledday',\n",
       "       'appointmentday', 'age', 'neighbourhood', 'scholarship', 'hipertension',\n",
       "       'diabetes', 'alcoholism', 'handcap', 'sms_received', 'absent'],\n",
       "      dtype='object')"
      ]
     },
     "execution_count": 12,
     "metadata": {},
     "output_type": "execute_result"
    }
   ],
   "source": [
    "df.columns"
   ]
  },
  {
   "cell_type": "markdown",
   "metadata": {},
   "source": [
    "In the Previous step, I investigate the negative value found in the 'Age' column. In this step will check if it is a typo though by checking the Patient's ID and any other appointments they have. Which could have a reference of the correct age and change it accordingly. if not then will will drop the row that contains negative value \n"
   ]
  },
  {
   "cell_type": "code",
   "execution_count": 13,
   "metadata": {},
   "outputs": [
    {
     "data": {
      "text/html": [
       "<div>\n",
       "<style scoped>\n",
       "    .dataframe tbody tr th:only-of-type {\n",
       "        vertical-align: middle;\n",
       "    }\n",
       "\n",
       "    .dataframe tbody tr th {\n",
       "        vertical-align: top;\n",
       "    }\n",
       "\n",
       "    .dataframe thead th {\n",
       "        text-align: right;\n",
       "    }\n",
       "</style>\n",
       "<table border=\"1\" class=\"dataframe\">\n",
       "  <thead>\n",
       "    <tr style=\"text-align: right;\">\n",
       "      <th></th>\n",
       "      <th>patientid</th>\n",
       "      <th>appointmentid</th>\n",
       "      <th>gender</th>\n",
       "      <th>scheduledday</th>\n",
       "      <th>appointmentday</th>\n",
       "      <th>age</th>\n",
       "      <th>neighbourhood</th>\n",
       "      <th>scholarship</th>\n",
       "      <th>hipertension</th>\n",
       "      <th>diabetes</th>\n",
       "      <th>alcoholism</th>\n",
       "      <th>handcap</th>\n",
       "      <th>sms_received</th>\n",
       "      <th>absent</th>\n",
       "    </tr>\n",
       "  </thead>\n",
       "  <tbody>\n",
       "    <tr>\n",
       "      <th>99832</th>\n",
       "      <td>465943158731293</td>\n",
       "      <td>5775010</td>\n",
       "      <td>F</td>\n",
       "      <td>2016-06-06T08:58:13Z</td>\n",
       "      <td>2016-06-06T00:00:00Z</td>\n",
       "      <td>-1</td>\n",
       "      <td>ROMÃO</td>\n",
       "      <td>0</td>\n",
       "      <td>0</td>\n",
       "      <td>0</td>\n",
       "      <td>0</td>\n",
       "      <td>0</td>\n",
       "      <td>0</td>\n",
       "      <td>No</td>\n",
       "    </tr>\n",
       "  </tbody>\n",
       "</table>\n",
       "</div>"
      ],
      "text/plain": [
       "            patientid  appointmentid gender          scheduledday  \\\n",
       "99832 465943158731293        5775010      F  2016-06-06T08:58:13Z   \n",
       "\n",
       "             appointmentday  age neighbourhood  scholarship  hipertension  \\\n",
       "99832  2016-06-06T00:00:00Z   -1         ROMÃO            0             0   \n",
       "\n",
       "       diabetes  alcoholism  handcap  sms_received absent  \n",
       "99832         0           0        0             0     No  "
      ]
     },
     "execution_count": 13,
     "metadata": {},
     "output_type": "execute_result"
    }
   ],
   "source": [
    "# Get Patient ID \n",
    "patient_id = df['patientid'][df['age'] == -1].values[0]\n",
    "\n",
    "# Get All Appoitmenet associated with Patient ID\n",
    "df[df['patientid'] == patient_id].head()"
   ]
  },
  {
   "cell_type": "markdown",
   "metadata": {},
   "source": [
    "Since we only have one record, will drop the row to have clean data "
   ]
  },
  {
   "cell_type": "code",
   "execution_count": 14,
   "metadata": {},
   "outputs": [
    {
     "data": {
      "text/html": [
       "<div>\n",
       "<style scoped>\n",
       "    .dataframe tbody tr th:only-of-type {\n",
       "        vertical-align: middle;\n",
       "    }\n",
       "\n",
       "    .dataframe tbody tr th {\n",
       "        vertical-align: top;\n",
       "    }\n",
       "\n",
       "    .dataframe thead th {\n",
       "        text-align: right;\n",
       "    }\n",
       "</style>\n",
       "<table border=\"1\" class=\"dataframe\">\n",
       "  <thead>\n",
       "    <tr style=\"text-align: right;\">\n",
       "      <th></th>\n",
       "      <th>patientid</th>\n",
       "      <th>appointmentid</th>\n",
       "      <th>gender</th>\n",
       "      <th>scheduledday</th>\n",
       "      <th>appointmentday</th>\n",
       "      <th>age</th>\n",
       "      <th>neighbourhood</th>\n",
       "      <th>scholarship</th>\n",
       "      <th>hipertension</th>\n",
       "      <th>diabetes</th>\n",
       "      <th>alcoholism</th>\n",
       "      <th>handcap</th>\n",
       "      <th>sms_received</th>\n",
       "      <th>absent</th>\n",
       "    </tr>\n",
       "  </thead>\n",
       "  <tbody>\n",
       "  </tbody>\n",
       "</table>\n",
       "</div>"
      ],
      "text/plain": [
       "Empty DataFrame\n",
       "Columns: [patientid, appointmentid, gender, scheduledday, appointmentday, age, neighbourhood, scholarship, hipertension, diabetes, alcoholism, handcap, sms_received, absent]\n",
       "Index: []"
      ]
     },
     "execution_count": 14,
     "metadata": {},
     "output_type": "execute_result"
    }
   ],
   "source": [
    "# Drop the row with nagative age value\n",
    "index_value = df[df['patientid'] == patient_id].index[0]\n",
    "df.drop(index=index_value, inplace=True)\n",
    "\n",
    "# Check if the row is droped\n",
    "df[df['patientid'] == patient_id].head()"
   ]
  },
  {
   "cell_type": "markdown",
   "metadata": {},
   "source": [
    "In previuse section it was observed that 'AppointmentDay' is not in the right format.\n",
    "Thereore will conver it to datetime.\n",
    "Will also add two column Day_of_Week and Day that will be used in the upcoming stage"
   ]
  },
  {
   "cell_type": "code",
   "execution_count": 15,
   "metadata": {},
   "outputs": [],
   "source": [
    "# Convert AppointmentDay to Datetime so then we can create DAY_OF_WEEK, Day, Month \n",
    "df['appointmentday'] = pd.to_datetime(df['appointmentday'])\n",
    "\n",
    "# Create DAY_OF_WEEK Column\n",
    "df['day_of_week'] = pd.to_datetime(df['appointmentday']).dt.day_name()\n",
    "\n",
    "# Create Day Column\n",
    "df['day'] = pd.to_datetime(df['appointmentday']).dt.day"
   ]
  },
  {
   "cell_type": "code",
   "execution_count": 16,
   "metadata": {},
   "outputs": [
    {
     "data": {
      "text/html": [
       "<div>\n",
       "<style scoped>\n",
       "    .dataframe tbody tr th:only-of-type {\n",
       "        vertical-align: middle;\n",
       "    }\n",
       "\n",
       "    .dataframe tbody tr th {\n",
       "        vertical-align: top;\n",
       "    }\n",
       "\n",
       "    .dataframe thead th {\n",
       "        text-align: right;\n",
       "    }\n",
       "</style>\n",
       "<table border=\"1\" class=\"dataframe\">\n",
       "  <thead>\n",
       "    <tr style=\"text-align: right;\">\n",
       "      <th></th>\n",
       "      <th>patientid</th>\n",
       "      <th>appointmentid</th>\n",
       "      <th>gender</th>\n",
       "      <th>scheduledday</th>\n",
       "      <th>appointmentday</th>\n",
       "      <th>age</th>\n",
       "      <th>neighbourhood</th>\n",
       "      <th>scholarship</th>\n",
       "      <th>hipertension</th>\n",
       "      <th>diabetes</th>\n",
       "      <th>alcoholism</th>\n",
       "      <th>handcap</th>\n",
       "      <th>sms_received</th>\n",
       "      <th>absent</th>\n",
       "      <th>day_of_week</th>\n",
       "      <th>day</th>\n",
       "    </tr>\n",
       "  </thead>\n",
       "  <tbody>\n",
       "    <tr>\n",
       "      <th>0</th>\n",
       "      <td>29872499824296</td>\n",
       "      <td>5642903</td>\n",
       "      <td>F</td>\n",
       "      <td>2016-04-29T18:38:08Z</td>\n",
       "      <td>2016-04-29 00:00:00+00:00</td>\n",
       "      <td>62</td>\n",
       "      <td>JARDIM DA PENHA</td>\n",
       "      <td>0</td>\n",
       "      <td>1</td>\n",
       "      <td>0</td>\n",
       "      <td>0</td>\n",
       "      <td>0</td>\n",
       "      <td>0</td>\n",
       "      <td>No</td>\n",
       "      <td>Friday</td>\n",
       "      <td>29</td>\n",
       "    </tr>\n",
       "    <tr>\n",
       "      <th>1</th>\n",
       "      <td>558997776694438</td>\n",
       "      <td>5642503</td>\n",
       "      <td>M</td>\n",
       "      <td>2016-04-29T16:08:27Z</td>\n",
       "      <td>2016-04-29 00:00:00+00:00</td>\n",
       "      <td>56</td>\n",
       "      <td>JARDIM DA PENHA</td>\n",
       "      <td>0</td>\n",
       "      <td>0</td>\n",
       "      <td>0</td>\n",
       "      <td>0</td>\n",
       "      <td>0</td>\n",
       "      <td>0</td>\n",
       "      <td>No</td>\n",
       "      <td>Friday</td>\n",
       "      <td>29</td>\n",
       "    </tr>\n",
       "    <tr>\n",
       "      <th>2</th>\n",
       "      <td>4262962299951</td>\n",
       "      <td>5642549</td>\n",
       "      <td>F</td>\n",
       "      <td>2016-04-29T16:19:04Z</td>\n",
       "      <td>2016-04-29 00:00:00+00:00</td>\n",
       "      <td>62</td>\n",
       "      <td>MATA DA PRAIA</td>\n",
       "      <td>0</td>\n",
       "      <td>0</td>\n",
       "      <td>0</td>\n",
       "      <td>0</td>\n",
       "      <td>0</td>\n",
       "      <td>0</td>\n",
       "      <td>No</td>\n",
       "      <td>Friday</td>\n",
       "      <td>29</td>\n",
       "    </tr>\n",
       "    <tr>\n",
       "      <th>3</th>\n",
       "      <td>867951213174</td>\n",
       "      <td>5642828</td>\n",
       "      <td>F</td>\n",
       "      <td>2016-04-29T17:29:31Z</td>\n",
       "      <td>2016-04-29 00:00:00+00:00</td>\n",
       "      <td>8</td>\n",
       "      <td>PONTAL DE CAMBURI</td>\n",
       "      <td>0</td>\n",
       "      <td>0</td>\n",
       "      <td>0</td>\n",
       "      <td>0</td>\n",
       "      <td>0</td>\n",
       "      <td>0</td>\n",
       "      <td>No</td>\n",
       "      <td>Friday</td>\n",
       "      <td>29</td>\n",
       "    </tr>\n",
       "    <tr>\n",
       "      <th>4</th>\n",
       "      <td>8841186448183</td>\n",
       "      <td>5642494</td>\n",
       "      <td>F</td>\n",
       "      <td>2016-04-29T16:07:23Z</td>\n",
       "      <td>2016-04-29 00:00:00+00:00</td>\n",
       "      <td>56</td>\n",
       "      <td>JARDIM DA PENHA</td>\n",
       "      <td>0</td>\n",
       "      <td>1</td>\n",
       "      <td>1</td>\n",
       "      <td>0</td>\n",
       "      <td>0</td>\n",
       "      <td>0</td>\n",
       "      <td>No</td>\n",
       "      <td>Friday</td>\n",
       "      <td>29</td>\n",
       "    </tr>\n",
       "  </tbody>\n",
       "</table>\n",
       "</div>"
      ],
      "text/plain": [
       "        patientid  appointmentid gender          scheduledday  \\\n",
       "0  29872499824296        5642903      F  2016-04-29T18:38:08Z   \n",
       "1 558997776694438        5642503      M  2016-04-29T16:08:27Z   \n",
       "2   4262962299951        5642549      F  2016-04-29T16:19:04Z   \n",
       "3    867951213174        5642828      F  2016-04-29T17:29:31Z   \n",
       "4   8841186448183        5642494      F  2016-04-29T16:07:23Z   \n",
       "\n",
       "             appointmentday  age      neighbourhood  scholarship  \\\n",
       "0 2016-04-29 00:00:00+00:00   62    JARDIM DA PENHA            0   \n",
       "1 2016-04-29 00:00:00+00:00   56    JARDIM DA PENHA            0   \n",
       "2 2016-04-29 00:00:00+00:00   62      MATA DA PRAIA            0   \n",
       "3 2016-04-29 00:00:00+00:00    8  PONTAL DE CAMBURI            0   \n",
       "4 2016-04-29 00:00:00+00:00   56    JARDIM DA PENHA            0   \n",
       "\n",
       "   hipertension  diabetes  alcoholism  handcap  sms_received absent  \\\n",
       "0             1         0           0        0             0     No   \n",
       "1             0         0           0        0             0     No   \n",
       "2             0         0           0        0             0     No   \n",
       "3             0         0           0        0             0     No   \n",
       "4             1         1           0        0             0     No   \n",
       "\n",
       "  day_of_week  day  \n",
       "0      Friday   29  \n",
       "1      Friday   29  \n",
       "2      Friday   29  \n",
       "3      Friday   29  \n",
       "4      Friday   29  "
      ]
     },
     "execution_count": 16,
     "metadata": {},
     "output_type": "execute_result"
    }
   ],
   "source": [
    "# To check if the changes took place\n",
    "df.head()"
   ]
  },
  {
   "cell_type": "markdown",
   "metadata": {},
   "source": [
    "Will also drop the following column 'patientid', 'appointmentid', 'scheduledday', 'appointmentday' since will not beening using for EDA"
   ]
  },
  {
   "cell_type": "code",
   "execution_count": 17,
   "metadata": {},
   "outputs": [],
   "source": [
    "df.drop(['patientid', 'appointmentid', 'scheduledday', 'appointmentday'], axis=1, inplace=True)"
   ]
  },
  {
   "cell_type": "code",
   "execution_count": 18,
   "metadata": {},
   "outputs": [
    {
     "data": {
      "image/png": "[encoded data removed]",
      "text/plain": [
       "<Figure size 1000x1000 with 9 Axes>"
      ]
     },
     "metadata": {},
     "output_type": "display_data"
    }
   ],
   "source": [
    "df.hist(figsize=(10, 10));"
   ]
  },
  {
   "cell_type": "markdown",
   "metadata": {},
   "source": [
    "In this section, I will develop a function will  that create a plot chart to be used during this EDA"
   ]
  },
  {
   "cell_type": "code",
   "execution_count": 19,
   "metadata": {},
   "outputs": [],
   "source": [
    "from typing import Literal\n",
    "def display_plot(\n",
    "    dataframe: pd.DataFrame,\n",
    "    plot_type: Literal['hist', 'bar', 'scatter','plot', 'pie'] = 'hist',\n",
    "    color: list = [color.BLUE],\n",
    "    rotate:float = 0.0,\n",
    "    fontsize:float = 10,\n",
    "    combine: Literal[True, False] = True,\n",
    "    title: str = None,\n",
    "    legend: list = [],\n",
    "    alpha: float = 1):\n",
    "    \"\"\"\n",
    "    Create a Plot data based on the specified plot type.\n",
    "    The x-axis represents the range of values provided by the data df.\n",
    "    The y-axis represents the frequency of values (how often that variable appears).\n",
    "\n",
    "    Args:\n",
    "        dataframe (Panda DataFrame): The data df that is required for plotting.\n",
    "        plot_type ('hist', 'bar', 'scatter', 'plot', 'pie): Type of plot such as histagram, bar, scatter defult('hist)\n",
    "        color (list): Color of the plot.\n",
    "        rotate (float): Rotation fo the x-axies label\n",
    "        fontsize (float):Size of the x axies label\n",
    "        combine (True, False): Combine all Plot in one ghraph.\n",
    "        title (str): Title to be displayed on the plot.\n",
    "        legend (list): Lable for Pie chat.\n",
    "        alpha (float):\n",
    "\n",
    "    Returns:\n",
    "        Plot Ghraph\n",
    "    \"\"\"\n",
    "    df = dataframe\n",
    "\n",
    "    # Create Plot \n",
    "    if plot_type == 'hist':\n",
    "        plt.hist(df, color=color[0], label=legend[0], alpha=alpha)\n",
    "\n",
    "    if plot_type in ['bar', 'scatter', 'plot']:\n",
    "        plot_func = plt.bar if plot_type == 'bar' else plt.scatter if plot_type == 'scatter' else plt.plot\n",
    "        plot_func(dataframe.index, dataframe.values, color=color[0], label=legend[0], alpha=alpha);\n",
    "\n",
    "    if plot_type == 'pie':\n",
    "        plt.pie(dataframe.values, labels=legend, colors=color, autopct=\"%1.1f%%\")\n",
    "    \n",
    "    # Add lable to X and Y axis \n",
    "    if plot_type != 'pie':\n",
    "        # Replace the header label that contains _ with space\n",
    "        xlabel = f'{dataframe.index.name.replace(\"_\", \" \")}' if \"_\" in dataframe.index.name else f'{dataframe.index.name}'\n",
    "        # X-axis label\n",
    "        plt.xlabel(xlabel.title())\n",
    "        if rotate != 0.0:\n",
    "            plt.xticks(rotation=rotate, fontsize=fontsize)\n",
    "        # Replace the header label that contains _ with space\n",
    "        ylabel = f'{dataframe.name.replace(\"_\", \" \")}' if \"_\" in dataframe.name else f'{dataframe.name}'\n",
    "        # Y-axis label\n",
    "        plt.ylabel(ylabel.title())\n",
    "        # Add title on the top of the chart\n",
    "        plt.title(title, loc='center')\n",
    "\n",
    "    # Combine all the plot in one ghraph   \n",
    "    if not combine:\n",
    "        plt.show()\n",
    "    else:\n",
    "        plt.legend()\n"
   ]
  },
  {
   "cell_type": "markdown",
   "metadata": {},
   "source": [
    "### Research Question 1 (What factors contribute to patients not attending their scheduled appointments at the hospital?)"
   ]
  },
  {
   "cell_type": "markdown",
   "metadata": {},
   "source": [
    "Here a variable will be created that will be used as a filter during the investigation"
   ]
  },
  {
   "cell_type": "code",
   "execution_count": 20,
   "metadata": {},
   "outputs": [],
   "source": [
    "sms_received = df.sms_received == 1 # Apply received SMS sorting filter\n",
    "sms_not_received = df.sms_received == 0 # Apply not received SMS sorting filter\n",
    "absent = df.absent == 'Yes' # Apply absent sorting filter\n",
    "present = df.absent == 'No' # Apply present sorting filter"
   ]
  },
  {
   "cell_type": "markdown",
   "metadata": {},
   "source": [
    "Using the filter and the fuction in the previous line, we can now generate a bar chat of Total Attendance and absence.\n",
    "This will help us get an overview of whether there is an absence or not.\n",
    "<br><br>\n",
    "Below will create two bar chat:\n",
    "<br>\n",
    "1:  Create bar chat with the following flags absent='No'\n",
    "<br>\n",
    "2:  Create bar chat with the following flags absent='Yes'"
   ]
  },
  {
   "cell_type": "code",
   "execution_count": 21,
   "metadata": {},
   "outputs": [
    {
     "data": {
      "text/plain": [
       "'day'"
      ]
     },
     "execution_count": 21,
     "metadata": {},
     "output_type": "execute_result"
    },
    {
     "data": {
      "image/png": "[encoded data removed]",
      "text/plain": [
       "<Figure size 640x480 with 1 Axes>"
      ]
     },
     "metadata": {},
     "output_type": "display_data"
    }
   ],
   "source": [
    "# Get all Patient with are on scholarship\n",
    "scholarship = df.query('scholarship == 1')\n",
    "\n",
    "# Create Title for the chart\n",
    "title = \"Total Present and Absence Patient during the day\"\n",
    "# Create bar chart of total present for all days\n",
    "present_filter = scholarship.loc[present]\n",
    "display_plot(present_filter.day.value_counts(), 'bar', color.BLUE, legend=[\"Present\"], title=title)\n",
    "# Create bar chart of total absence for all days\n",
    "absent_filter = scholarship.loc[absent]\n",
    "display_plot(absent_filter.day.value_counts(), 'bar',color.RED, legend=[\"Absent\"], title=title)\n",
    "\n",
    "present_filter.day.name"
   ]
  },
  {
   "cell_type": "code",
   "execution_count": 22,
   "metadata": {},
   "outputs": [
    {
     "data": {
      "text/plain": [
       "count    24\n",
       "mean    345\n",
       "std     138\n",
       "min       3\n",
       "25%     298\n",
       "50%     322\n",
       "75%     348\n",
       "max     672\n",
       "Name: count, dtype: float64"
      ]
     },
     "execution_count": 22,
     "metadata": {},
     "output_type": "execute_result"
    }
   ],
   "source": [
    "present_filter.day.value_counts().describe()"
   ]
  },
  {
   "cell_type": "code",
   "execution_count": 23,
   "metadata": {},
   "outputs": [
    {
     "data": {
      "text/plain": [
       "count    23\n",
       "mean    112\n",
       "std      33\n",
       "min      78\n",
       "25%      93\n",
       "50%     105\n",
       "75%     114\n",
       "max     199\n",
       "Name: count, dtype: float64"
      ]
     },
     "execution_count": 23,
     "metadata": {},
     "output_type": "execute_result"
    }
   ],
   "source": [
    "absent_filter.day.value_counts().describe()"
   ]
  },
  {
   "cell_type": "markdown",
   "metadata": {},
   "source": [
    "As we can see from the previous graph, we noticed that there are present and absent patients, and the percentage of present patients is more than double that of those absent, as the mean is 345 compared to 112. \n",
    "<br><br>\n",
    "Next stage will investigate further why some patients are absent and whether they received an SMS or not.\n",
    "<br><br>\n",
    "Below will create two bar chat:\n",
    "<br>\n",
    "1:  Create bar chat with the following flags absent='Yes', sms_received=1\n",
    "<br>\n",
    "2:  Create bar chat with the following flags absent='Yes', sms_received=0"
   ]
  },
  {
   "cell_type": "code",
   "execution_count": 24,
   "metadata": {},
   "outputs": [
    {
     "data": {
      "image/png": "[encoded data removed]",
      "text/plain": [
       "<Figure size 640x480 with 1 Axes>"
      ]
     },
     "metadata": {},
     "output_type": "display_data"
    }
   ],
   "source": [
    "# Create Chart Title\n",
    "title = \"Total SMS Recived and not Recived for Patient with scholarship\"\n",
    "# Create bar chart of Total SMS Recived by appling sms_received=1\n",
    "received = scholarship.loc[absent & sms_received]\n",
    "display_plot(received.day.value_counts(), 'bar', color.BLUE, legend='Received', title=title)\n",
    "# Create bar chart of Total SMS not Recived by appling sms_received=0\n",
    "not_received = scholarship.loc[absent & sms_not_received]\n",
    "display_plot(not_received.day.value_counts(), 'bar', color.RED,legend='Not Received',  title=title)\n"
   ]
  },
  {
   "cell_type": "markdown",
   "metadata": {},
   "source": [
    "A pie chart to get an overview of the percentage of SMS messages received and not received"
   ]
  },
  {
   "cell_type": "code",
   "execution_count": 25,
   "metadata": {},
   "outputs": [
    {
     "data": {
      "image/png": "[encoded data removed]",
      "text/plain": [
       "<Figure size 640x480 with 1 Axes>"
      ]
     },
     "metadata": {},
     "output_type": "display_data"
    }
   ],
   "source": [
    "# Create color list to be used for Pie Chat\n",
    "color_list = [color.RED, color.BLUE]\n",
    "# Create legend list to be used for Pie Chat\n",
    "legend = ['Not received', 'Received']\n",
    "#Create Pie chat\n",
    "display_plot(scholarship.sms_received.value_counts(), 'pie',color_list, legend=legend, combine=False)"
   ]
  },
  {
   "cell_type": "code",
   "execution_count": 26,
   "metadata": {},
   "outputs": [
    {
     "data": {
      "text/plain": [
       "day\n",
       "1      62\n",
       "2     120\n",
       "3     129\n",
       "4      53\n",
       "5      49\n",
       "6     127\n",
       "7      61\n",
       "8      48\n",
       "10     80\n",
       "11     58\n",
       "12     51\n",
       "24     82\n",
       "25     57\n",
       "29     48\n",
       "30     88\n",
       "31     71\n",
       "Name: count, dtype: int64"
      ]
     },
     "execution_count": 26,
     "metadata": {},
     "output_type": "execute_result"
    }
   ],
   "source": [
    "received.day.value_counts().sort_index(ascending=True)"
   ]
  },
  {
   "cell_type": "code",
   "execution_count": 27,
   "metadata": {},
   "outputs": [
    {
     "data": {
      "text/plain": [
       "day\n",
       "1      45\n",
       "2      57\n",
       "3      70\n",
       "4      52\n",
       "5      30\n",
       "6      63\n",
       "7      32\n",
       "8      36\n",
       "9     109\n",
       "10     30\n",
       "11     59\n",
       "12     40\n",
       "13    124\n",
       "16    126\n",
       "17    101\n",
       "18     93\n",
       "19    102\n",
       "20    103\n",
       "24     24\n",
       "25     24\n",
       "29     30\n",
       "30     19\n",
       "31     25\n",
       "Name: count, dtype: int64"
      ]
     },
     "execution_count": 27,
     "metadata": {},
     "output_type": "execute_result"
    }
   ],
   "source": [
    "not_received.day.value_counts().sort_index(ascending=True)"
   ]
  },
  {
   "cell_type": "code",
   "execution_count": 28,
   "metadata": {},
   "outputs": [
    {
     "data": {
      "text/plain": [
       "neighbourhood\n",
       "CARATOÍRA           73\n",
       "GURIGICA            71\n",
       "ILHA DO PRÍNCIPE    63\n",
       "ANDORINHAS          55\n",
       "BONFIM              53\n",
       "Name: count, dtype: int64"
      ]
     },
     "execution_count": 28,
     "metadata": {},
     "output_type": "execute_result"
    }
   ],
   "source": [
    "neighbourhood_df = not_received.neighbourhood.value_counts().sort_values(ascending=False)\n",
    "neighbourhood_df.head()"
   ]
  },
  {
   "cell_type": "markdown",
   "metadata": {},
   "source": [
    "### Research Question 2 (Which neighbour has the highest attendance for patient with hipertension?)\n"
   ]
  },
  {
   "cell_type": "markdown",
   "metadata": {},
   "source": [
    "Create Tabale with all hipertension Patient"
   ]
  },
  {
   "cell_type": "code",
   "execution_count": 29,
   "metadata": {},
   "outputs": [
    {
     "data": {
      "text/html": [
       "<div>\n",
       "<style scoped>\n",
       "    .dataframe tbody tr th:only-of-type {\n",
       "        vertical-align: middle;\n",
       "    }\n",
       "\n",
       "    .dataframe tbody tr th {\n",
       "        vertical-align: top;\n",
       "    }\n",
       "\n",
       "    .dataframe thead th {\n",
       "        text-align: right;\n",
       "    }\n",
       "</style>\n",
       "<table border=\"1\" class=\"dataframe\">\n",
       "  <thead>\n",
       "    <tr style=\"text-align: right;\">\n",
       "      <th></th>\n",
       "      <th>gender</th>\n",
       "      <th>age</th>\n",
       "      <th>neighbourhood</th>\n",
       "      <th>scholarship</th>\n",
       "      <th>hipertension</th>\n",
       "      <th>diabetes</th>\n",
       "      <th>alcoholism</th>\n",
       "      <th>handcap</th>\n",
       "      <th>sms_received</th>\n",
       "      <th>absent</th>\n",
       "      <th>day_of_week</th>\n",
       "      <th>day</th>\n",
       "    </tr>\n",
       "  </thead>\n",
       "  <tbody>\n",
       "    <tr>\n",
       "      <th>0</th>\n",
       "      <td>F</td>\n",
       "      <td>62</td>\n",
       "      <td>JARDIM DA PENHA</td>\n",
       "      <td>0</td>\n",
       "      <td>1</td>\n",
       "      <td>0</td>\n",
       "      <td>0</td>\n",
       "      <td>0</td>\n",
       "      <td>0</td>\n",
       "      <td>No</td>\n",
       "      <td>Friday</td>\n",
       "      <td>29</td>\n",
       "    </tr>\n",
       "    <tr>\n",
       "      <th>4</th>\n",
       "      <td>F</td>\n",
       "      <td>56</td>\n",
       "      <td>JARDIM DA PENHA</td>\n",
       "      <td>0</td>\n",
       "      <td>1</td>\n",
       "      <td>1</td>\n",
       "      <td>0</td>\n",
       "      <td>0</td>\n",
       "      <td>0</td>\n",
       "      <td>No</td>\n",
       "      <td>Friday</td>\n",
       "      <td>29</td>\n",
       "    </tr>\n",
       "    <tr>\n",
       "      <th>5</th>\n",
       "      <td>F</td>\n",
       "      <td>76</td>\n",
       "      <td>REPÚBLICA</td>\n",
       "      <td>0</td>\n",
       "      <td>1</td>\n",
       "      <td>0</td>\n",
       "      <td>0</td>\n",
       "      <td>0</td>\n",
       "      <td>0</td>\n",
       "      <td>No</td>\n",
       "      <td>Friday</td>\n",
       "      <td>29</td>\n",
       "    </tr>\n",
       "    <tr>\n",
       "      <th>25</th>\n",
       "      <td>M</td>\n",
       "      <td>46</td>\n",
       "      <td>CONQUISTA</td>\n",
       "      <td>0</td>\n",
       "      <td>1</td>\n",
       "      <td>0</td>\n",
       "      <td>0</td>\n",
       "      <td>0</td>\n",
       "      <td>1</td>\n",
       "      <td>No</td>\n",
       "      <td>Friday</td>\n",
       "      <td>29</td>\n",
       "    </tr>\n",
       "    <tr>\n",
       "      <th>26</th>\n",
       "      <td>F</td>\n",
       "      <td>45</td>\n",
       "      <td>BENTO FERREIRA</td>\n",
       "      <td>0</td>\n",
       "      <td>1</td>\n",
       "      <td>0</td>\n",
       "      <td>0</td>\n",
       "      <td>0</td>\n",
       "      <td>0</td>\n",
       "      <td>No</td>\n",
       "      <td>Friday</td>\n",
       "      <td>29</td>\n",
       "    </tr>\n",
       "  </tbody>\n",
       "</table>\n",
       "</div>"
      ],
      "text/plain": [
       "   gender  age    neighbourhood  scholarship  hipertension  diabetes  \\\n",
       "0       F   62  JARDIM DA PENHA            0             1         0   \n",
       "4       F   56  JARDIM DA PENHA            0             1         1   \n",
       "5       F   76        REPÚBLICA            0             1         0   \n",
       "25      M   46        CONQUISTA            0             1         0   \n",
       "26      F   45   BENTO FERREIRA            0             1         0   \n",
       "\n",
       "    alcoholism  handcap  sms_received absent day_of_week  day  \n",
       "0            0        0             0     No      Friday   29  \n",
       "4            0        0             0     No      Friday   29  \n",
       "5            0        0             0     No      Friday   29  \n",
       "25           0        0             1     No      Friday   29  \n",
       "26           0        0             0     No      Friday   29  "
      ]
     },
     "execution_count": 29,
     "metadata": {},
     "output_type": "execute_result"
    }
   ],
   "source": [
    "hipertension = df.hipertension == 1\n",
    "\n",
    "hipertension_df = df.loc[hipertension]\n",
    "\n",
    "hipertension_df.head()"
   ]
  },
  {
   "cell_type": "markdown",
   "metadata": {},
   "source": [
    "Dsiaply Chart of pateient with hipertension and to have an onverview"
   ]
  },
  {
   "cell_type": "code",
   "execution_count": 30,
   "metadata": {},
   "outputs": [
    {
     "data": {
      "image/png": "[encoded data removed]",
      "text/plain": [
       "<Figure size 640x480 with 1 Axes>"
      ]
     },
     "metadata": {},
     "output_type": "display_data"
    }
   ],
   "source": [
    "# Disaply Total Appoitement for patient with hipertension\n",
    "display_plot(hipertension_df.neighbourhood.value_counts(), 'bar',color.BLUE, legend='Total Appointment')\n",
    "# Apply fillter to get only present patienet\n",
    "present_df = hipertension_df.loc[present]\n",
    "# Disaply Total attandnace of patient with hipertension\n",
    "display_plot(present_df.neighbourhood.value_counts(), 'bar',color.GREEN, legend='Present', title=title, rotate=90, fontsize=5.5)"
   ]
  },
  {
   "cell_type": "markdown",
   "metadata": {},
   "source": [
    "We can see above that the most attended neighbourhood is \"JARDIM DA PENHA\"\n",
    "<br>\n",
    "Check the trend of patients attended against the total appointment"
   ]
  },
  {
   "cell_type": "code",
   "execution_count": 31,
   "metadata": {},
   "outputs": [
    {
     "data": {
      "image/png": "[encoded data removed]",
      "text/plain": [
       "<Figure size 640x480 with 1 Axes>"
      ]
     },
     "metadata": {},
     "output_type": "display_data"
    }
   ],
   "source": [
    "title = \"Total Appointment of Hypertension Patient\"\n",
    "\n",
    "display_plot(hipertension_df.day.value_counts(), 'bar',color.BLUE, legend='Total Appointment')\n",
    "\n",
    "display_plot(present_df.day.value_counts(), 'bar',color.GREEN, legend='Present', title=title)"
   ]
  },
  {
   "cell_type": "code",
   "execution_count": 32,
   "metadata": {},
   "outputs": [
    {
     "data": {
      "text/plain": [
       "day\n",
       "2     1501\n",
       "3     1470\n",
       "6     1329\n",
       "8      789\n",
       "31     759\n",
       "12     748\n",
       "5      738\n",
       "1      736\n",
       "7      735\n",
       "9      718\n",
       "16     704\n",
       "30     703\n",
       "11     689\n",
       "18     688\n",
       "10     677\n",
       "4      676\n",
       "24     674\n",
       "19     669\n",
       "17     666\n",
       "13     661\n",
       "25     617\n",
       "20     550\n",
       "29     517\n",
       "14      15\n",
       "Name: count, dtype: int64"
      ]
     },
     "execution_count": 32,
     "metadata": {},
     "output_type": "execute_result"
    }
   ],
   "source": [
    "present_df.day.value_counts()"
   ]
  },
  {
   "cell_type": "markdown",
   "metadata": {},
   "source": [
    "On the above table, we can see a spike for days 2, 3, 6. \n",
    "<br>\n",
    "Now We can apply a specific date filter to find the most attended neighbourhood"
   ]
  },
  {
   "cell_type": "code",
   "execution_count": 33,
   "metadata": {},
   "outputs": [
    {
     "data": {
      "text/plain": [
       "0    JARDIM DA PENHA\n",
       "Name: neighbourhood, dtype: object"
      ]
     },
     "execution_count": 33,
     "metadata": {},
     "output_type": "execute_result"
    }
   ],
   "source": [
    "#Select day with high attendance\n",
    "selected_days = [2, 3, 6]\n",
    "# Apply filter\n",
    "filtered_data = present_df[present_df['day'].isin(selected_days)]\n",
    "# Apply mode to get most common neighbourhood that appears in  set of data.\n",
    "filtered_data.neighbourhood.mode()"
   ]
  },
  {
   "cell_type": "code",
   "execution_count": 34,
   "metadata": {},
   "outputs": [
    {
     "data": {
      "image/png": "[encoded data removed]",
      "text/plain": [
       "<Figure size 640x480 with 1 Axes>"
      ]
     },
     "metadata": {},
     "output_type": "display_data"
    }
   ],
   "source": [
    "title = \"Appointments for patients with high blood pressure throughout the week\"\n",
    "\n",
    "display_plot(hipertension_df.day_of_week.value_counts(), 'bar',color.BLUE, legend='Total Appointment')\n",
    "\n",
    "display_plot(present_df.day_of_week.value_counts(), 'bar',color.GREEN, legend='Present', title=title)"
   ]
  },
  {
   "cell_type": "code",
   "execution_count": 35,
   "metadata": {},
   "outputs": [
    {
     "data": {
      "text/plain": [
       "0    JARDIM DA PENHA\n",
       "Name: neighbourhood, dtype: object"
      ]
     },
     "execution_count": 35,
     "metadata": {},
     "output_type": "execute_result"
    }
   ],
   "source": [
    "#Select day with high attendance\n",
    "selected_days = [\"Tuesday\", \"Wednesday\"]\n",
    "# Apply filter\n",
    "filtered_data = present_df[present_df['day_of_week'].isin(selected_days)]\n",
    "# # Apply mode to get most common neighbourhood that appears in set of data.\n",
    "filtered_data.neighbourhood.mode()"
   ]
  },
  {
   "cell_type": "markdown",
   "metadata": {},
   "source": [
    "<a id='conclusions'></a>\n",
    "<h2 class=\"text-bg-primary p-2\">Conclusions</h2>\n",
    "\n",
    "\n",
    "In this report I have conducted two research questions, and the following result can be found below:\n",
    "\n",
    "1-\tResearch Finding for Question 1 (What factors contribute to patients not attending their scheduled appointments at the hospital?)\n",
    "\n",
    "<br>Findings:\n",
    "-\t67.7% of absent patients did not receive text messages to reminding them of their appointments.\n",
    "-\tThe highest days of absence are the 13th and 16th - 20th\n",
    "-\tThe top neighbourhoods where patients did not receive SMS were Caratuera, Gorica, Ilha do Principe, Andorinhas and Bonfim\n",
    "\n",
    "<br>Limitaion:\n",
    "-\tAppointment time, although some patients attended their scheduled appointments without receiving text messages. There are some patients who received text messages for their next appointment and did not show up. Such a scenario might be that the timing of their scheduled appointments does not fit into their schedule. This data set only provides access to the day of the appointment, not the time of the appointment\n",
    "\n",
    "\n",
    "2-\tResearch Finding for Question 2 (Which neighbour has the highest attendance for a patient with hypertension?)\n",
    "\n",
    "<br>Findings:\n",
    "-\tJARDIM DA PENHA has the highest attendance.\n",
    "-\tThe highest days are 2, 3 and 6.\n",
    "-\tThe highest day of the week is Tuesday, and Wednesday."
   ]
  },
  {
   "cell_type": "code",
   "execution_count": null,
   "metadata": {},
   "outputs": [],
   "source": []
  }
 ],
 "metadata": {
  "kernelspec": {
   "display_name": "Python 3",
   "language": "python",
   "name": "python3"
  },
  "language_info": {
   "codemirror_mode": {
    "name": "ipython",
    "version": 3
   },
   "file_extension": ".py",
   "mimetype": "text/x-python",
   "name": "python",
   "nbconvert_exporter": "python",
   "pygments_lexer": "ipython3",
   "version": "3.8.18"
  }
 },
 "nbformat": 4,
 "nbformat_minor": 2
}
